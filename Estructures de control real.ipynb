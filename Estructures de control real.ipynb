{
 "cells": [
  {
   "cell_type": "code",
   "execution_count": 8,
   "id": "5f52184a",
   "metadata": {},
   "outputs": [
    {
     "name": "stdout",
     "output_type": "stream",
     "text": [
      "<class 'float'>5.7\n",
      "La teva nota és un  5.7\n",
      "La teva nota és un Aprovat\n"
     ]
    }
   ],
   "source": [
    "x = input(float)\n",
    "\n",
    "print(\"La teva nota és un \", x)\n",
    "\n",
    "\n",
    "if float(x) < 5:\n",
    "    print(\"Has suspès\")\n",
    "elif float(x) >= 5 and float(x) < 7:\n",
    "    print(\"La teva nota és un Aprovat\")\n",
    "elif float(x) >= 7 and float(x) <=8:\n",
    "    print(\"La teva nota és un Notable\")\n",
    "elif float(x)<0 or int(x)>10:\n",
    "    print(\"Introdueix un valor vàlid\")\n",
    "else:\n",
    "    print(\"Has tret un Excel·lent\")\n",
    "    \n"
   ]
  },
  {
   "cell_type": "code",
   "execution_count": 9,
   "id": "26d05877",
   "metadata": {},
   "outputs": [
    {
     "name": "stdout",
     "output_type": "stream",
     "text": [
      "Introdueix un nombre: 5\n",
      "Introdueix un segon nombre: 6\n",
      "El segon nombre és el més gran\n"
     ]
    }
   ],
   "source": [
    "#Utilitzant el següent tutorial Programiz: Python Input, Output and Import crea un programa que et pregunti dos números.\n",
    "#T’ha de mostrar un missatge dient si el primer és més gran, el segon és més gran o són iguals.\n",
    "\n",
    "number = int(input(\"Introdueix un nombre: \"))\n",
    "num2 = int(input(\"Introdueix un segon nombre: \"))\n",
    "\n",
    "if number>num2:\n",
    "    print(\"El primer nombre és el més gran\")\n",
    "elif number<num2:\n",
    "    print(\"El segon nombre és el més gran\")\n",
    "else: \n",
    "    print(\"Són iguals\")\n",
    "    "
   ]
  },
  {
   "cell_type": "code",
   "execution_count": 10,
   "id": "a7c0c005",
   "metadata": {},
   "outputs": [
    {
     "name": "stdout",
     "output_type": "stream",
     "text": [
      "Introdueix el teu nom: pau\n",
      "Introdueix un nombre: 3\n",
      "pau\n",
      "pau\n",
      "pau\n"
     ]
    }
   ],
   "source": [
    "#Crea un programa que et pregunti el teu nom, i et demani un número. Si el número és 0, hauria de mostrar un missatge\n",
    "#d’error. En cas contrari, hauria de mostrar el nom repetit tants cops com indiqui el número. Per exemple,\n",
    "#“Joan Joan Joan”.\n",
    "\n",
    "nom = str(input(\"Introdueix el teu nom: \"))\n",
    "nombre = int(input(\"Introdueix un nombre: \"))\n",
    "\n",
    "if nombre == 0:\n",
    "    print(\"Introdueix un valor vàlid\")\n",
    "else:\n",
    "    for nombre in nom:\n",
    "        print(nom)"
   ]
  },
  {
   "cell_type": "code",
   "execution_count": 13,
   "id": "ab643fb9",
   "metadata": {},
   "outputs": [
    {
     "name": "stdout",
     "output_type": "stream",
     "text": [
      "Ingrese cuantos numeros aleatorios desea obtener\n",
      "15\n",
      "[7, 1, 8, 6, 4, 6, 0, 6, 3, 7, 9, 3, 8, 8, 9]\n",
      "Not Palindrome\n"
     ]
    }
   ],
   "source": [
    "#Crea un programa que donada una llista qualsevol, et digui si es simètrica o no.\n",
    "#Si ho és, que et digui quants elements té.\n",
    "\n",
    "import random\n",
    "\n",
    "def listaAleatorios(n):\n",
    "    lista = [0]  * n\n",
    "    for i in range(n):\n",
    "          lista[i] = random.randint(0, 10)\n",
    "    return lista\n",
    "\n",
    "print(\"Ingrese cuantos numeros aleatorios desea obtener\")\n",
    "n=int(input())\n",
    "\n",
    "aleatorios=listaAleatorios(n)\n",
    "print(aleatorios)\n",
    "\n",
    "if aleatorios ==aleatorios[::-1] :\n",
    "    print(\"Palindrome\")\n",
    "    print(len(aleatorios))\n",
    "else:\n",
    "    print(\"Not Palindrome\")"
   ]
  },
  {
   "cell_type": "code",
   "execution_count": null,
   "id": "fee4e708",
   "metadata": {},
   "outputs": [],
   "source": []
  },
  {
   "cell_type": "code",
   "execution_count": 16,
   "id": "ecaef5a1",
   "metadata": {},
   "outputs": [
    {
     "name": "stdout",
     "output_type": "stream",
     "text": [
      "no conincideix\n",
      "Coincideix\n",
      "no conincideix\n",
      "no conincideix\n",
      "Coincideix\n",
      "no conincideix\n",
      "no conincideix\n",
      "no conincideix\n",
      "no conincideix\n",
      "no conincideix\n",
      "no conincideix\n",
      "no conincideix\n",
      "no conincideix\n",
      "no conincideix\n",
      "no conincideix\n"
     ]
    }
   ],
   "source": [
    "#Crea un programa que donada una llista, et digui quants números coincideixen amb la seva posició. \n",
    "#Per exemple [3,4,2,0,2,3,6] el 2 i el 6 coincideixen.\n",
    "\n",
    "for x in aleatorios:\n",
    "    z= aleatorios.index(x)\n",
    "    if x == z:\n",
    "        print(\"Coincideix\")\n",
    "    else:\n",
    "        print(\"no conincideix\")\n",
    "    \n",
    "        \n"
   ]
  }
 ],
 "metadata": {
  "kernelspec": {
   "display_name": "Python 3 (ipykernel)",
   "language": "python",
   "name": "python3"
  },
  "language_info": {
   "codemirror_mode": {
    "name": "ipython",
    "version": 3
   },
   "file_extension": ".py",
   "mimetype": "text/x-python",
   "name": "python",
   "nbconvert_exporter": "python",
   "pygments_lexer": "ipython3",
   "version": "3.9.7"
  }
 },
 "nbformat": 4,
 "nbformat_minor": 5
}
